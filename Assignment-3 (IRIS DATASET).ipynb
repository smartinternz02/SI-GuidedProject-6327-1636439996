{
 "cells": [
  {
   "cell_type": "markdown",
   "id": "63f78550",
   "metadata": {},
   "source": [
    "# Assignment-3"
   ]
  },
  {
   "cell_type": "markdown",
   "id": "aa1a5411",
   "metadata": {},
   "source": [
    "## 1.Importing Necessary Libraries"
   ]
  },
  {
   "cell_type": "code",
   "execution_count": 7,
   "id": "d61c0857",
   "metadata": {},
   "outputs": [],
   "source": [
    "import numpy as np\n",
    "import pandas as pd\n",
    "import seaborn as sns\n",
    "from matplotlib import pyplot as plt"
   ]
  },
  {
   "cell_type": "markdown",
   "id": "86637694",
   "metadata": {},
   "source": [
    "## 2.Load the Dataset"
   ]
  },
  {
   "cell_type": "code",
   "execution_count": 1,
   "id": "4e56b478",
   "metadata": {},
   "outputs": [],
   "source": [
    "headers = [\"sepal.length\",\"sepal.width\",\"petal.length\",\"petal.width\",\"variety\"]"
   ]
  },
  {
   "cell_type": "code",
   "execution_count": 4,
   "id": "4f349f21",
   "metadata": {},
   "outputs": [],
   "source": [
    "df = pd.read_csv(\"C:/Users/Siddhant/Desktop/iris.csv\",names = headers)"
   ]
  },
  {
   "cell_type": "code",
   "execution_count": 5,
   "id": "619b715d",
   "metadata": {},
   "outputs": [
    {
     "data": {
      "text/html": [
       "<div>\n",
       "<style scoped>\n",
       "    .dataframe tbody tr th:only-of-type {\n",
       "        vertical-align: middle;\n",
       "    }\n",
       "\n",
       "    .dataframe tbody tr th {\n",
       "        vertical-align: top;\n",
       "    }\n",
       "\n",
       "    .dataframe thead th {\n",
       "        text-align: right;\n",
       "    }\n",
       "</style>\n",
       "<table border=\"1\" class=\"dataframe\">\n",
       "  <thead>\n",
       "    <tr style=\"text-align: right;\">\n",
       "      <th></th>\n",
       "      <th>sepal.length</th>\n",
       "      <th>sepal.width</th>\n",
       "      <th>petal.length</th>\n",
       "      <th>petal.width</th>\n",
       "      <th>variety</th>\n",
       "    </tr>\n",
       "  </thead>\n",
       "  <tbody>\n",
       "    <tr>\n",
       "      <th>0</th>\n",
       "      <td>sepal.length</td>\n",
       "      <td>sepal.width</td>\n",
       "      <td>petal.length</td>\n",
       "      <td>petal.width</td>\n",
       "      <td>variety</td>\n",
       "    </tr>\n",
       "    <tr>\n",
       "      <th>1</th>\n",
       "      <td>5.1</td>\n",
       "      <td>3.5</td>\n",
       "      <td>1.4</td>\n",
       "      <td>.2</td>\n",
       "      <td>Setosa</td>\n",
       "    </tr>\n",
       "    <tr>\n",
       "      <th>2</th>\n",
       "      <td>4.9</td>\n",
       "      <td>3</td>\n",
       "      <td>1.4</td>\n",
       "      <td>.2</td>\n",
       "      <td>Setosa</td>\n",
       "    </tr>\n",
       "    <tr>\n",
       "      <th>3</th>\n",
       "      <td>4.7</td>\n",
       "      <td>3.2</td>\n",
       "      <td>1.3</td>\n",
       "      <td>.2</td>\n",
       "      <td>Setosa</td>\n",
       "    </tr>\n",
       "    <tr>\n",
       "      <th>4</th>\n",
       "      <td>4.6</td>\n",
       "      <td>3.1</td>\n",
       "      <td>1.5</td>\n",
       "      <td>.2</td>\n",
       "      <td>Setosa</td>\n",
       "    </tr>\n",
       "  </tbody>\n",
       "</table>\n",
       "</div>"
      ],
      "text/plain": [
       "   sepal.length  sepal.width  petal.length  petal.width  variety\n",
       "0  sepal.length  sepal.width  petal.length  petal.width  variety\n",
       "1           5.1          3.5           1.4           .2   Setosa\n",
       "2           4.9            3           1.4           .2   Setosa\n",
       "3           4.7          3.2           1.3           .2   Setosa\n",
       "4           4.6          3.1           1.5           .2   Setosa"
      ]
     },
     "execution_count": 5,
     "metadata": {},
     "output_type": "execute_result"
    }
   ],
   "source": [
    "df.head()"
   ]
  },
  {
   "cell_type": "markdown",
   "id": "5f8b30e8",
   "metadata": {},
   "source": [
    "## 3.Data Preprocessing"
   ]
  },
  {
   "cell_type": "code",
   "execution_count": 8,
   "id": "2937537a",
   "metadata": {},
   "outputs": [
    {
     "data": {
      "text/html": [
       "<div>\n",
       "<style scoped>\n",
       "    .dataframe tbody tr th:only-of-type {\n",
       "        vertical-align: middle;\n",
       "    }\n",
       "\n",
       "    .dataframe tbody tr th {\n",
       "        vertical-align: top;\n",
       "    }\n",
       "\n",
       "    .dataframe thead th {\n",
       "        text-align: right;\n",
       "    }\n",
       "</style>\n",
       "<table border=\"1\" class=\"dataframe\">\n",
       "  <thead>\n",
       "    <tr style=\"text-align: right;\">\n",
       "      <th></th>\n",
       "      <th>sepal.length</th>\n",
       "      <th>sepal.width</th>\n",
       "      <th>petal.length</th>\n",
       "      <th>petal.width</th>\n",
       "      <th>variety</th>\n",
       "    </tr>\n",
       "  </thead>\n",
       "  <tbody>\n",
       "    <tr>\n",
       "      <th>0</th>\n",
       "      <td>sepal.length</td>\n",
       "      <td>sepal.width</td>\n",
       "      <td>petal.length</td>\n",
       "      <td>petal.width</td>\n",
       "      <td>variety</td>\n",
       "    </tr>\n",
       "    <tr>\n",
       "      <th>1</th>\n",
       "      <td>5.1</td>\n",
       "      <td>3.5</td>\n",
       "      <td>1.4</td>\n",
       "      <td>.2</td>\n",
       "      <td>Setosa</td>\n",
       "    </tr>\n",
       "    <tr>\n",
       "      <th>2</th>\n",
       "      <td>4.9</td>\n",
       "      <td>3</td>\n",
       "      <td>1.4</td>\n",
       "      <td>.2</td>\n",
       "      <td>Setosa</td>\n",
       "    </tr>\n",
       "    <tr>\n",
       "      <th>3</th>\n",
       "      <td>4.7</td>\n",
       "      <td>3.2</td>\n",
       "      <td>1.3</td>\n",
       "      <td>.2</td>\n",
       "      <td>Setosa</td>\n",
       "    </tr>\n",
       "    <tr>\n",
       "      <th>4</th>\n",
       "      <td>4.6</td>\n",
       "      <td>3.1</td>\n",
       "      <td>1.5</td>\n",
       "      <td>.2</td>\n",
       "      <td>Setosa</td>\n",
       "    </tr>\n",
       "  </tbody>\n",
       "</table>\n",
       "</div>"
      ],
      "text/plain": [
       "   sepal.length  sepal.width  petal.length  petal.width  variety\n",
       "0  sepal.length  sepal.width  petal.length  petal.width  variety\n",
       "1           5.1          3.5           1.4           .2   Setosa\n",
       "2           4.9            3           1.4           .2   Setosa\n",
       "3           4.7          3.2           1.3           .2   Setosa\n",
       "4           4.6          3.1           1.5           .2   Setosa"
      ]
     },
     "execution_count": 8,
     "metadata": {},
     "output_type": "execute_result"
    }
   ],
   "source": [
    "df.replace(\"?\",np.nan,inplace=True)\n",
    "df.head()"
   ]
  },
  {
   "cell_type": "code",
   "execution_count": 9,
   "id": "a324b525",
   "metadata": {},
   "outputs": [
    {
     "data": {
      "text/html": [
       "<div>\n",
       "<style scoped>\n",
       "    .dataframe tbody tr th:only-of-type {\n",
       "        vertical-align: middle;\n",
       "    }\n",
       "\n",
       "    .dataframe tbody tr th {\n",
       "        vertical-align: top;\n",
       "    }\n",
       "\n",
       "    .dataframe thead th {\n",
       "        text-align: right;\n",
       "    }\n",
       "</style>\n",
       "<table border=\"1\" class=\"dataframe\">\n",
       "  <thead>\n",
       "    <tr style=\"text-align: right;\">\n",
       "      <th></th>\n",
       "      <th>sepal.length</th>\n",
       "      <th>sepal.width</th>\n",
       "      <th>petal.length</th>\n",
       "      <th>petal.width</th>\n",
       "      <th>variety</th>\n",
       "    </tr>\n",
       "  </thead>\n",
       "  <tbody>\n",
       "    <tr>\n",
       "      <th>0</th>\n",
       "      <td>False</td>\n",
       "      <td>False</td>\n",
       "      <td>False</td>\n",
       "      <td>False</td>\n",
       "      <td>False</td>\n",
       "    </tr>\n",
       "    <tr>\n",
       "      <th>1</th>\n",
       "      <td>False</td>\n",
       "      <td>False</td>\n",
       "      <td>False</td>\n",
       "      <td>False</td>\n",
       "      <td>False</td>\n",
       "    </tr>\n",
       "    <tr>\n",
       "      <th>2</th>\n",
       "      <td>False</td>\n",
       "      <td>False</td>\n",
       "      <td>False</td>\n",
       "      <td>False</td>\n",
       "      <td>False</td>\n",
       "    </tr>\n",
       "    <tr>\n",
       "      <th>3</th>\n",
       "      <td>False</td>\n",
       "      <td>False</td>\n",
       "      <td>False</td>\n",
       "      <td>False</td>\n",
       "      <td>False</td>\n",
       "    </tr>\n",
       "    <tr>\n",
       "      <th>4</th>\n",
       "      <td>False</td>\n",
       "      <td>False</td>\n",
       "      <td>False</td>\n",
       "      <td>False</td>\n",
       "      <td>False</td>\n",
       "    </tr>\n",
       "  </tbody>\n",
       "</table>\n",
       "</div>"
      ],
      "text/plain": [
       "   sepal.length  sepal.width  petal.length  petal.width  variety\n",
       "0         False        False         False        False    False\n",
       "1         False        False         False        False    False\n",
       "2         False        False         False        False    False\n",
       "3         False        False         False        False    False\n",
       "4         False        False         False        False    False"
      ]
     },
     "execution_count": 9,
     "metadata": {},
     "output_type": "execute_result"
    }
   ],
   "source": [
    "missing_data = df.isnull()\n",
    "missing_data.head()"
   ]
  },
  {
   "cell_type": "code",
   "execution_count": 10,
   "id": "0e3c346a",
   "metadata": {},
   "outputs": [
    {
     "name": "stdout",
     "output_type": "stream",
     "text": [
      "sepal.length\n",
      "False    151\n",
      "Name: sepal.length, dtype: int64\n",
      "\n",
      "sepal.width\n",
      "False    151\n",
      "Name: sepal.width, dtype: int64\n",
      "\n",
      "petal.length\n",
      "False    151\n",
      "Name: petal.length, dtype: int64\n",
      "\n",
      "petal.width\n",
      "False    151\n",
      "Name: petal.width, dtype: int64\n",
      "\n",
      "variety\n",
      "False    151\n",
      "Name: variety, dtype: int64\n",
      "\n"
     ]
    }
   ],
   "source": [
    "for column in missing_data.columns.values.tolist():\n",
    "    print(column)\n",
    "    print(missing_data[column].value_counts())\n",
    "    print(\"\")"
   ]
  },
  {
   "cell_type": "code",
   "execution_count": 23,
   "id": "ff6e8040",
   "metadata": {},
   "outputs": [],
   "source": [
    "df['sepal.length'] = pd.to_numeric(df['sepal.length'],errors='coerce')"
   ]
  },
  {
   "cell_type": "code",
   "execution_count": 26,
   "id": "60d4ad4f",
   "metadata": {},
   "outputs": [
    {
     "name": "stdout",
     "output_type": "stream",
     "text": [
      "Average of Sepal Length: 5.843333333333334\n"
     ]
    }
   ],
   "source": [
    "avg_sepal_length = df[\"sepal.length\"].astype(\"float\").mean(axis=0)\n",
    "print(\"Average of Sepal Length:\", avg_sepal_length)"
   ]
  },
  {
   "cell_type": "code",
   "execution_count": 27,
   "id": "7eb72d26",
   "metadata": {},
   "outputs": [],
   "source": [
    "df[\"sepal.length\"].replace(np.nan, avg_sepal_length, inplace=True)"
   ]
  },
  {
   "cell_type": "code",
   "execution_count": 28,
   "id": "85adab28",
   "metadata": {},
   "outputs": [],
   "source": [
    "df['sepal.width'] = pd.to_numeric(df['sepal.width'],errors='coerce')"
   ]
  },
  {
   "cell_type": "code",
   "execution_count": 29,
   "id": "e5c14037",
   "metadata": {},
   "outputs": [
    {
     "name": "stdout",
     "output_type": "stream",
     "text": [
      "Average of Sepal Width: 3.0573333333333337\n"
     ]
    }
   ],
   "source": [
    "avg_sepal_width = df[\"sepal.width\"].astype(\"float\").mean(axis=0)\n",
    "print(\"Average of Sepal Width:\", avg_sepal_width)"
   ]
  },
  {
   "cell_type": "code",
   "execution_count": 30,
   "id": "8c027040",
   "metadata": {},
   "outputs": [],
   "source": [
    "df[\"sepal.width\"].replace(np.nan, avg_sepal_width, inplace=True)"
   ]
  },
  {
   "cell_type": "code",
   "execution_count": 31,
   "id": "9e4a886c",
   "metadata": {},
   "outputs": [],
   "source": [
    "df['petal.length'] = pd.to_numeric(df['petal.length'],errors='coerce')"
   ]
  },
  {
   "cell_type": "code",
   "execution_count": 32,
   "id": "ff2acbd7",
   "metadata": {},
   "outputs": [
    {
     "name": "stdout",
     "output_type": "stream",
     "text": [
      "Average of Petal Length: 3.7579999999999996\n"
     ]
    }
   ],
   "source": [
    "avg_petal_length = df[\"petal.length\"].astype(\"float\").mean(axis=0)\n",
    "print(\"Average of Petal Length:\", avg_petal_length)"
   ]
  },
  {
   "cell_type": "code",
   "execution_count": 33,
   "id": "87547381",
   "metadata": {},
   "outputs": [],
   "source": [
    "df[\"petal.length\"].replace(np.nan, avg_petal_length, inplace=True)"
   ]
  },
  {
   "cell_type": "code",
   "execution_count": 34,
   "id": "0abd6405",
   "metadata": {},
   "outputs": [],
   "source": [
    "df['petal.width'] = pd.to_numeric(df['petal.width'],errors='coerce')"
   ]
  },
  {
   "cell_type": "code",
   "execution_count": 35,
   "id": "5426682c",
   "metadata": {},
   "outputs": [
    {
     "name": "stdout",
     "output_type": "stream",
     "text": [
      "Average of Petal Width: 1.1993333333333336\n"
     ]
    }
   ],
   "source": [
    "avg_petal_width = df[\"petal.width\"].astype(\"float\").mean(axis=0)\n",
    "print(\"Average of Petal Width:\", avg_petal_width)"
   ]
  },
  {
   "cell_type": "code",
   "execution_count": 36,
   "id": "4bc22a51",
   "metadata": {},
   "outputs": [],
   "source": [
    "df[\"petal.width\"].replace(np.nan, avg_petal_length, inplace=True)"
   ]
  },
  {
   "cell_type": "code",
   "execution_count": 37,
   "id": "60eb8231",
   "metadata": {},
   "outputs": [
    {
     "data": {
      "text/plain": [
       "5.0"
      ]
     },
     "execution_count": 37,
     "metadata": {},
     "output_type": "execute_result"
    }
   ],
   "source": [
    "df['sepal.length'].value_counts().idxmax()"
   ]
  },
  {
   "cell_type": "code",
   "execution_count": 38,
   "id": "ac8513f8",
   "metadata": {},
   "outputs": [],
   "source": [
    "df[\"sepal.length\"].replace(np.nan, 'four', inplace=True)"
   ]
  },
  {
   "cell_type": "code",
   "execution_count": 39,
   "id": "d2afe399",
   "metadata": {},
   "outputs": [],
   "source": [
    "df.dropna(subset=['petal.width'], axis=0, inplace=True)\n",
    "\n",
    "df.reset_index(drop=True, inplace=True)"
   ]
  },
  {
   "cell_type": "code",
   "execution_count": 40,
   "id": "a7536883",
   "metadata": {},
   "outputs": [
    {
     "data": {
      "text/html": [
       "<div>\n",
       "<style scoped>\n",
       "    .dataframe tbody tr th:only-of-type {\n",
       "        vertical-align: middle;\n",
       "    }\n",
       "\n",
       "    .dataframe tbody tr th {\n",
       "        vertical-align: top;\n",
       "    }\n",
       "\n",
       "    .dataframe thead th {\n",
       "        text-align: right;\n",
       "    }\n",
       "</style>\n",
       "<table border=\"1\" class=\"dataframe\">\n",
       "  <thead>\n",
       "    <tr style=\"text-align: right;\">\n",
       "      <th></th>\n",
       "      <th>sepal.length</th>\n",
       "      <th>sepal.width</th>\n",
       "      <th>petal.length</th>\n",
       "      <th>petal.width</th>\n",
       "      <th>variety</th>\n",
       "    </tr>\n",
       "  </thead>\n",
       "  <tbody>\n",
       "    <tr>\n",
       "      <th>0</th>\n",
       "      <td>5.843333</td>\n",
       "      <td>3.057333</td>\n",
       "      <td>3.758</td>\n",
       "      <td>3.758</td>\n",
       "      <td>variety</td>\n",
       "    </tr>\n",
       "    <tr>\n",
       "      <th>1</th>\n",
       "      <td>5.100000</td>\n",
       "      <td>3.500000</td>\n",
       "      <td>1.400</td>\n",
       "      <td>0.200</td>\n",
       "      <td>Setosa</td>\n",
       "    </tr>\n",
       "    <tr>\n",
       "      <th>2</th>\n",
       "      <td>4.900000</td>\n",
       "      <td>3.000000</td>\n",
       "      <td>1.400</td>\n",
       "      <td>0.200</td>\n",
       "      <td>Setosa</td>\n",
       "    </tr>\n",
       "    <tr>\n",
       "      <th>3</th>\n",
       "      <td>4.700000</td>\n",
       "      <td>3.200000</td>\n",
       "      <td>1.300</td>\n",
       "      <td>0.200</td>\n",
       "      <td>Setosa</td>\n",
       "    </tr>\n",
       "    <tr>\n",
       "      <th>4</th>\n",
       "      <td>4.600000</td>\n",
       "      <td>3.100000</td>\n",
       "      <td>1.500</td>\n",
       "      <td>0.200</td>\n",
       "      <td>Setosa</td>\n",
       "    </tr>\n",
       "  </tbody>\n",
       "</table>\n",
       "</div>"
      ],
      "text/plain": [
       "   sepal.length  sepal.width  petal.length  petal.width  variety\n",
       "0      5.843333     3.057333         3.758        3.758  variety\n",
       "1      5.100000     3.500000         1.400        0.200   Setosa\n",
       "2      4.900000     3.000000         1.400        0.200   Setosa\n",
       "3      4.700000     3.200000         1.300        0.200   Setosa\n",
       "4      4.600000     3.100000         1.500        0.200   Setosa"
      ]
     },
     "execution_count": 40,
     "metadata": {},
     "output_type": "execute_result"
    }
   ],
   "source": [
    "df.head()"
   ]
  },
  {
   "cell_type": "code",
   "execution_count": 42,
   "id": "cb9a203e",
   "metadata": {},
   "outputs": [
    {
     "data": {
      "text/plain": [
       "sepal.length    float64\n",
       "sepal.width     float64\n",
       "petal.length    float64\n",
       "petal.width     float64\n",
       "variety          object\n",
       "dtype: object"
      ]
     },
     "execution_count": 42,
     "metadata": {},
     "output_type": "execute_result"
    }
   ],
   "source": [
    "df.dtypes"
   ]
  },
  {
   "cell_type": "code",
   "execution_count": 43,
   "id": "e2a67c01",
   "metadata": {},
   "outputs": [
    {
     "data": {
      "text/html": [
       "<div>\n",
       "<style scoped>\n",
       "    .dataframe tbody tr th:only-of-type {\n",
       "        vertical-align: middle;\n",
       "    }\n",
       "\n",
       "    .dataframe tbody tr th {\n",
       "        vertical-align: top;\n",
       "    }\n",
       "\n",
       "    .dataframe thead th {\n",
       "        text-align: right;\n",
       "    }\n",
       "</style>\n",
       "<table border=\"1\" class=\"dataframe\">\n",
       "  <thead>\n",
       "    <tr style=\"text-align: right;\">\n",
       "      <th></th>\n",
       "      <th>length-sepal</th>\n",
       "      <th>width-sepal</th>\n",
       "      <th>petal.length</th>\n",
       "      <th>petal.width</th>\n",
       "      <th>variety</th>\n",
       "    </tr>\n",
       "  </thead>\n",
       "  <tbody>\n",
       "    <tr>\n",
       "      <th>0</th>\n",
       "      <td>40.216771</td>\n",
       "      <td>76.864370</td>\n",
       "      <td>3.758</td>\n",
       "      <td>3.758</td>\n",
       "      <td>variety</td>\n",
       "    </tr>\n",
       "    <tr>\n",
       "      <th>1</th>\n",
       "      <td>46.078431</td>\n",
       "      <td>67.142857</td>\n",
       "      <td>1.400</td>\n",
       "      <td>0.200</td>\n",
       "      <td>Setosa</td>\n",
       "    </tr>\n",
       "    <tr>\n",
       "      <th>2</th>\n",
       "      <td>47.959184</td>\n",
       "      <td>78.333333</td>\n",
       "      <td>1.400</td>\n",
       "      <td>0.200</td>\n",
       "      <td>Setosa</td>\n",
       "    </tr>\n",
       "    <tr>\n",
       "      <th>3</th>\n",
       "      <td>50.000000</td>\n",
       "      <td>73.437500</td>\n",
       "      <td>1.300</td>\n",
       "      <td>0.200</td>\n",
       "      <td>Setosa</td>\n",
       "    </tr>\n",
       "    <tr>\n",
       "      <th>4</th>\n",
       "      <td>51.086957</td>\n",
       "      <td>75.806452</td>\n",
       "      <td>1.500</td>\n",
       "      <td>0.200</td>\n",
       "      <td>Setosa</td>\n",
       "    </tr>\n",
       "  </tbody>\n",
       "</table>\n",
       "</div>"
      ],
      "text/plain": [
       "   length-sepal  width-sepal  petal.length  petal.width  variety\n",
       "0     40.216771    76.864370         3.758        3.758  variety\n",
       "1     46.078431    67.142857         1.400        0.200   Setosa\n",
       "2     47.959184    78.333333         1.400        0.200   Setosa\n",
       "3     50.000000    73.437500         1.300        0.200   Setosa\n",
       "4     51.086957    75.806452         1.500        0.200   Setosa"
      ]
     },
     "execution_count": 43,
     "metadata": {},
     "output_type": "execute_result"
    }
   ],
   "source": [
    "# Data Standardization\n",
    "df['sepal.length'] = 235/df['sepal.length']\n",
    "df.rename(columns={'sepal.length':'length-sepal'}, inplace=True)\n",
    "df['sepal.width'] = 235/df['sepal.width']\n",
    "df.rename(columns={'sepal.width':'width-sepal'}, inplace=True)\n",
    "df.head()"
   ]
  },
  {
   "cell_type": "code",
   "execution_count": 44,
   "id": "ba879a05",
   "metadata": {},
   "outputs": [
    {
     "data": {
      "text/html": [
       "<div>\n",
       "<style scoped>\n",
       "    .dataframe tbody tr th:only-of-type {\n",
       "        vertical-align: middle;\n",
       "    }\n",
       "\n",
       "    .dataframe tbody tr th {\n",
       "        vertical-align: top;\n",
       "    }\n",
       "\n",
       "    .dataframe thead th {\n",
       "        text-align: right;\n",
       "    }\n",
       "</style>\n",
       "<table border=\"1\" class=\"dataframe\">\n",
       "  <thead>\n",
       "    <tr style=\"text-align: right;\">\n",
       "      <th></th>\n",
       "      <th>length-sepal</th>\n",
       "      <th>width-sepal</th>\n",
       "      <th>petal.length</th>\n",
       "    </tr>\n",
       "  </thead>\n",
       "  <tbody>\n",
       "    <tr>\n",
       "      <th>0</th>\n",
       "      <td>0.735881</td>\n",
       "      <td>0.654165</td>\n",
       "      <td>0.544638</td>\n",
       "    </tr>\n",
       "    <tr>\n",
       "      <th>1</th>\n",
       "      <td>0.843137</td>\n",
       "      <td>0.571429</td>\n",
       "      <td>0.202899</td>\n",
       "    </tr>\n",
       "    <tr>\n",
       "      <th>2</th>\n",
       "      <td>0.877551</td>\n",
       "      <td>0.666667</td>\n",
       "      <td>0.202899</td>\n",
       "    </tr>\n",
       "    <tr>\n",
       "      <th>3</th>\n",
       "      <td>0.914894</td>\n",
       "      <td>0.625000</td>\n",
       "      <td>0.188406</td>\n",
       "    </tr>\n",
       "    <tr>\n",
       "      <th>4</th>\n",
       "      <td>0.934783</td>\n",
       "      <td>0.645161</td>\n",
       "      <td>0.217391</td>\n",
       "    </tr>\n",
       "  </tbody>\n",
       "</table>\n",
       "</div>"
      ],
      "text/plain": [
       "   length-sepal  width-sepal  petal.length\n",
       "0      0.735881     0.654165      0.544638\n",
       "1      0.843137     0.571429      0.202899\n",
       "2      0.877551     0.666667      0.202899\n",
       "3      0.914894     0.625000      0.188406\n",
       "4      0.934783     0.645161      0.217391"
      ]
     },
     "execution_count": 44,
     "metadata": {},
     "output_type": "execute_result"
    }
   ],
   "source": [
    "# Data Normalization\n",
    "\n",
    "df['length-sepal'] = df['length-sepal']/df['length-sepal'].max()\n",
    "df['width-sepal'] = df['width-sepal']/df['width-sepal'].max()\n",
    "df['petal.length'] = df['petal.length']/df['petal.length'].max()\n",
    "df[['length-sepal','width-sepal','petal.length']].head()"
   ]
  },
  {
   "cell_type": "code",
   "execution_count": 45,
   "id": "36aa7146",
   "metadata": {},
   "outputs": [
    {
     "data": {
      "text/plain": [
       "Text(0.5, 1.0, 'Width of Sepals')"
      ]
     },
     "execution_count": 45,
     "metadata": {},
     "output_type": "execute_result"
    },
    {
     "data": {
      "image/png": "[encoded data removed]",
      "text/plain": [
       "<Figure size 432x288 with 1 Axes>"
      ]
     },
     "metadata": {
      "needs_background": "light"
     },
     "output_type": "display_data"
    }
   ],
   "source": [
    "# Binning-1\n",
    "df['width-sepal'] = df['width-sepal'].astype(\"float\", copy=True)\n",
    "plt.hist(df['width-sepal'])\n",
    "\n",
    "# Set x&y-labels and plot title\n",
    "plt.xlabel('Sepal Width')\n",
    "plt.ylabel('count')\n",
    "plt.title('Width of Sepals')"
   ]
  },
  {
   "cell_type": "code",
   "execution_count": 46,
   "id": "15f6beb6",
   "metadata": {},
   "outputs": [
    {
     "data": {
      "text/plain": [
       "array([0.45454545, 0.63636364, 0.81818182, 1.        ])"
      ]
     },
     "execution_count": 46,
     "metadata": {},
     "output_type": "execute_result"
    }
   ],
   "source": [
    "# Binning-2\n",
    "bins = np.linspace(min(df['width-sepal']),max(df['width-sepal']),4)\n",
    "bins"
   ]
  },
  {
   "cell_type": "code",
   "execution_count": 47,
   "id": "e62112aa",
   "metadata": {},
   "outputs": [
    {
     "data": {
      "text/html": [
       "<div>\n",
       "<style scoped>\n",
       "    .dataframe tbody tr th:only-of-type {\n",
       "        vertical-align: middle;\n",
       "    }\n",
       "\n",
       "    .dataframe tbody tr th {\n",
       "        vertical-align: top;\n",
       "    }\n",
       "\n",
       "    .dataframe thead th {\n",
       "        text-align: right;\n",
       "    }\n",
       "</style>\n",
       "<table border=\"1\" class=\"dataframe\">\n",
       "  <thead>\n",
       "    <tr style=\"text-align: right;\">\n",
       "      <th></th>\n",
       "      <th>width-sepal</th>\n",
       "      <th>width-sepal-binned</th>\n",
       "    </tr>\n",
       "  </thead>\n",
       "  <tbody>\n",
       "    <tr>\n",
       "      <th>0</th>\n",
       "      <td>0.654165</td>\n",
       "      <td>Medium</td>\n",
       "    </tr>\n",
       "    <tr>\n",
       "      <th>1</th>\n",
       "      <td>0.571429</td>\n",
       "      <td>Low</td>\n",
       "    </tr>\n",
       "    <tr>\n",
       "      <th>2</th>\n",
       "      <td>0.666667</td>\n",
       "      <td>Medium</td>\n",
       "    </tr>\n",
       "    <tr>\n",
       "      <th>3</th>\n",
       "      <td>0.625000</td>\n",
       "      <td>Low</td>\n",
       "    </tr>\n",
       "    <tr>\n",
       "      <th>4</th>\n",
       "      <td>0.645161</td>\n",
       "      <td>Medium</td>\n",
       "    </tr>\n",
       "    <tr>\n",
       "      <th>5</th>\n",
       "      <td>0.555556</td>\n",
       "      <td>Low</td>\n",
       "    </tr>\n",
       "    <tr>\n",
       "      <th>6</th>\n",
       "      <td>0.512821</td>\n",
       "      <td>Low</td>\n",
       "    </tr>\n",
       "    <tr>\n",
       "      <th>7</th>\n",
       "      <td>0.588235</td>\n",
       "      <td>Low</td>\n",
       "    </tr>\n",
       "    <tr>\n",
       "      <th>8</th>\n",
       "      <td>0.588235</td>\n",
       "      <td>Low</td>\n",
       "    </tr>\n",
       "    <tr>\n",
       "      <th>9</th>\n",
       "      <td>0.689655</td>\n",
       "      <td>Medium</td>\n",
       "    </tr>\n",
       "    <tr>\n",
       "      <th>10</th>\n",
       "      <td>0.645161</td>\n",
       "      <td>Medium</td>\n",
       "    </tr>\n",
       "    <tr>\n",
       "      <th>11</th>\n",
       "      <td>0.540541</td>\n",
       "      <td>Low</td>\n",
       "    </tr>\n",
       "    <tr>\n",
       "      <th>12</th>\n",
       "      <td>0.588235</td>\n",
       "      <td>Low</td>\n",
       "    </tr>\n",
       "    <tr>\n",
       "      <th>13</th>\n",
       "      <td>0.666667</td>\n",
       "      <td>Medium</td>\n",
       "    </tr>\n",
       "    <tr>\n",
       "      <th>14</th>\n",
       "      <td>0.666667</td>\n",
       "      <td>Medium</td>\n",
       "    </tr>\n",
       "    <tr>\n",
       "      <th>15</th>\n",
       "      <td>0.500000</td>\n",
       "      <td>Low</td>\n",
       "    </tr>\n",
       "    <tr>\n",
       "      <th>16</th>\n",
       "      <td>0.454545</td>\n",
       "      <td>Low</td>\n",
       "    </tr>\n",
       "    <tr>\n",
       "      <th>17</th>\n",
       "      <td>0.512821</td>\n",
       "      <td>Low</td>\n",
       "    </tr>\n",
       "    <tr>\n",
       "      <th>18</th>\n",
       "      <td>0.571429</td>\n",
       "      <td>Low</td>\n",
       "    </tr>\n",
       "    <tr>\n",
       "      <th>19</th>\n",
       "      <td>0.526316</td>\n",
       "      <td>Low</td>\n",
       "    </tr>\n",
       "  </tbody>\n",
       "</table>\n",
       "</div>"
      ],
      "text/plain": [
       "    width-sepal width-sepal-binned\n",
       "0      0.654165             Medium\n",
       "1      0.571429                Low\n",
       "2      0.666667             Medium\n",
       "3      0.625000                Low\n",
       "4      0.645161             Medium\n",
       "5      0.555556                Low\n",
       "6      0.512821                Low\n",
       "7      0.588235                Low\n",
       "8      0.588235                Low\n",
       "9      0.689655             Medium\n",
       "10     0.645161             Medium\n",
       "11     0.540541                Low\n",
       "12     0.588235                Low\n",
       "13     0.666667             Medium\n",
       "14     0.666667             Medium\n",
       "15     0.500000                Low\n",
       "16     0.454545                Low\n",
       "17     0.512821                Low\n",
       "18     0.571429                Low\n",
       "19     0.526316                Low"
      ]
     },
     "execution_count": 47,
     "metadata": {},
     "output_type": "execute_result"
    }
   ],
   "source": [
    "group_names = ['Low','Medium','High']\n",
    "df['width-sepal-binned'] = pd.cut(df['width-sepal'], bins, labels=group_names, include_lowest=True)\n",
    "df[['width-sepal','width-sepal-binned']].head(20)"
   ]
  },
  {
   "cell_type": "code",
   "execution_count": 48,
   "id": "295dbd16",
   "metadata": {},
   "outputs": [
    {
     "data": {
      "text/plain": [
       "Medium    84\n",
       "Low       56\n",
       "High      11\n",
       "Name: width-sepal-binned, dtype: int64"
      ]
     },
     "execution_count": 48,
     "metadata": {},
     "output_type": "execute_result"
    }
   ],
   "source": [
    "df['width-sepal-binned'].value_counts()"
   ]
  },
  {
   "cell_type": "code",
   "execution_count": 49,
   "id": "6851a0d1",
   "metadata": {},
   "outputs": [
    {
     "data": {
      "text/plain": [
       "Text(0.5, 1.0, 'Sepal Width Bins')"
      ]
     },
     "execution_count": 49,
     "metadata": {},
     "output_type": "execute_result"
    },
    {
     "data": {
      "image/png": "[encoded data removed]",
      "text/plain": [
       "<Figure size 432x288 with 1 Axes>"
      ]
     },
     "metadata": {
      "needs_background": "light"
     },
     "output_type": "display_data"
    }
   ],
   "source": [
    "plt.bar(group_names, df['width-sepal-binned'].value_counts())\n",
    "plt.xlabel('width-sepal')\n",
    "plt.ylabel('count')\n",
    "plt.title('Sepal Width Bins')"
   ]
  },
  {
   "cell_type": "code",
   "execution_count": 50,
   "id": "af627210",
   "metadata": {},
   "outputs": [
    {
     "data": {
      "text/plain": [
       "Text(0.5, 1.0, 'Sepal Width Bins')"
      ]
     },
     "execution_count": 50,
     "metadata": {},
     "output_type": "execute_result"
    },
    {
     "data": {
      "image/png": "[encoded data removed]",
      "text/plain": [
       "<Figure size 432x288 with 1 Axes>"
      ]
     },
     "metadata": {
      "needs_background": "light"
     },
     "output_type": "display_data"
    }
   ],
   "source": [
    "plt.hist(df['width-sepal'], bins=3)\n",
    "plt.xlabel('Sepal Width')\n",
    "plt.ylabel('count')\n",
    "plt.title('Sepal Width Bins')"
   ]
  },
  {
   "cell_type": "code",
   "execution_count": 51,
   "id": "ba5a959f",
   "metadata": {},
   "outputs": [
    {
     "data": {
      "text/html": [
       "<div>\n",
       "<style scoped>\n",
       "    .dataframe tbody tr th:only-of-type {\n",
       "        vertical-align: middle;\n",
       "    }\n",
       "\n",
       "    .dataframe tbody tr th {\n",
       "        vertical-align: top;\n",
       "    }\n",
       "\n",
       "    .dataframe thead th {\n",
       "        text-align: right;\n",
       "    }\n",
       "</style>\n",
       "<table border=\"1\" class=\"dataframe\">\n",
       "  <thead>\n",
       "    <tr style=\"text-align: right;\">\n",
       "      <th></th>\n",
       "      <th>length-sepal</th>\n",
       "      <th>width-sepal</th>\n",
       "      <th>petal.length</th>\n",
       "      <th>petal.width</th>\n",
       "      <th>variety</th>\n",
       "      <th>width-sepal-binned</th>\n",
       "    </tr>\n",
       "  </thead>\n",
       "  <tbody>\n",
       "    <tr>\n",
       "      <th>0</th>\n",
       "      <td>0.735881</td>\n",
       "      <td>0.654165</td>\n",
       "      <td>0.544638</td>\n",
       "      <td>3.758</td>\n",
       "      <td>variety</td>\n",
       "      <td>Medium</td>\n",
       "    </tr>\n",
       "    <tr>\n",
       "      <th>1</th>\n",
       "      <td>0.843137</td>\n",
       "      <td>0.571429</td>\n",
       "      <td>0.202899</td>\n",
       "      <td>0.200</td>\n",
       "      <td>Setosa</td>\n",
       "      <td>Low</td>\n",
       "    </tr>\n",
       "    <tr>\n",
       "      <th>2</th>\n",
       "      <td>0.877551</td>\n",
       "      <td>0.666667</td>\n",
       "      <td>0.202899</td>\n",
       "      <td>0.200</td>\n",
       "      <td>Setosa</td>\n",
       "      <td>Medium</td>\n",
       "    </tr>\n",
       "    <tr>\n",
       "      <th>3</th>\n",
       "      <td>0.914894</td>\n",
       "      <td>0.625000</td>\n",
       "      <td>0.188406</td>\n",
       "      <td>0.200</td>\n",
       "      <td>Setosa</td>\n",
       "      <td>Low</td>\n",
       "    </tr>\n",
       "    <tr>\n",
       "      <th>4</th>\n",
       "      <td>0.934783</td>\n",
       "      <td>0.645161</td>\n",
       "      <td>0.217391</td>\n",
       "      <td>0.200</td>\n",
       "      <td>Setosa</td>\n",
       "      <td>Medium</td>\n",
       "    </tr>\n",
       "  </tbody>\n",
       "</table>\n",
       "</div>"
      ],
      "text/plain": [
       "   length-sepal  width-sepal  petal.length  petal.width  variety  \\\n",
       "0      0.735881     0.654165      0.544638        3.758  variety   \n",
       "1      0.843137     0.571429      0.202899        0.200   Setosa   \n",
       "2      0.877551     0.666667      0.202899        0.200   Setosa   \n",
       "3      0.914894     0.625000      0.188406        0.200   Setosa   \n",
       "4      0.934783     0.645161      0.217391        0.200   Setosa   \n",
       "\n",
       "  width-sepal-binned  \n",
       "0             Medium  \n",
       "1                Low  \n",
       "2             Medium  \n",
       "3                Low  \n",
       "4             Medium  "
      ]
     },
     "execution_count": 51,
     "metadata": {},
     "output_type": "execute_result"
    }
   ],
   "source": [
    "df.head()"
   ]
  },
  {
   "cell_type": "code",
   "execution_count": 52,
   "id": "48a5d35f",
   "metadata": {},
   "outputs": [
    {
     "data": {
      "text/html": [
       "<div>\n",
       "<style scoped>\n",
       "    .dataframe tbody tr th:only-of-type {\n",
       "        vertical-align: middle;\n",
       "    }\n",
       "\n",
       "    .dataframe tbody tr th {\n",
       "        vertical-align: top;\n",
       "    }\n",
       "\n",
       "    .dataframe thead th {\n",
       "        text-align: right;\n",
       "    }\n",
       "</style>\n",
       "<table border=\"1\" class=\"dataframe\">\n",
       "  <thead>\n",
       "    <tr style=\"text-align: right;\">\n",
       "      <th></th>\n",
       "      <th>variety-setosa</th>\n",
       "      <th>variety-Versicolor</th>\n",
       "      <th>variety-Virginica</th>\n",
       "      <th>variety</th>\n",
       "    </tr>\n",
       "  </thead>\n",
       "  <tbody>\n",
       "    <tr>\n",
       "      <th>0</th>\n",
       "      <td>0</td>\n",
       "      <td>0</td>\n",
       "      <td>0</td>\n",
       "      <td>1</td>\n",
       "    </tr>\n",
       "    <tr>\n",
       "      <th>1</th>\n",
       "      <td>1</td>\n",
       "      <td>0</td>\n",
       "      <td>0</td>\n",
       "      <td>0</td>\n",
       "    </tr>\n",
       "    <tr>\n",
       "      <th>2</th>\n",
       "      <td>1</td>\n",
       "      <td>0</td>\n",
       "      <td>0</td>\n",
       "      <td>0</td>\n",
       "    </tr>\n",
       "    <tr>\n",
       "      <th>3</th>\n",
       "      <td>1</td>\n",
       "      <td>0</td>\n",
       "      <td>0</td>\n",
       "      <td>0</td>\n",
       "    </tr>\n",
       "    <tr>\n",
       "      <th>4</th>\n",
       "      <td>1</td>\n",
       "      <td>0</td>\n",
       "      <td>0</td>\n",
       "      <td>0</td>\n",
       "    </tr>\n",
       "  </tbody>\n",
       "</table>\n",
       "</div>"
      ],
      "text/plain": [
       "   variety-setosa  variety-Versicolor  variety-Virginica  variety\n",
       "0               0                   0                  0        1\n",
       "1               1                   0                  0        0\n",
       "2               1                   0                  0        0\n",
       "3               1                   0                  0        0\n",
       "4               1                   0                  0        0"
      ]
     },
     "execution_count": 52,
     "metadata": {},
     "output_type": "execute_result"
    }
   ],
   "source": [
    "# Dummy Variables-1\n",
    "dv1 = pd.get_dummies(df['variety'])\n",
    "dv1.rename(columns={'Setosa':'variety-setosa','Versicolor':'variety-Versicolor','Virginica':'variety-Virginica'}, inplace=True)\n",
    "dv1.head()"
   ]
  },
  {
   "cell_type": "code",
   "execution_count": 53,
   "id": "5fbf609c",
   "metadata": {},
   "outputs": [],
   "source": [
    "# Merging dataframe 'df' and 'dv1'\n",
    "df = pd.concat([df, dv1], axis=1)\n",
    "\n",
    "#drop original column \"variety\" from \"df\"\n",
    "df.drop(\"variety\", axis=1, inplace=True)"
   ]
  },
  {
   "cell_type": "code",
   "execution_count": 54,
   "id": "eafedd89",
   "metadata": {},
   "outputs": [
    {
     "data": {
      "text/html": [
       "<div>\n",
       "<style scoped>\n",
       "    .dataframe tbody tr th:only-of-type {\n",
       "        vertical-align: middle;\n",
       "    }\n",
       "\n",
       "    .dataframe tbody tr th {\n",
       "        vertical-align: top;\n",
       "    }\n",
       "\n",
       "    .dataframe thead th {\n",
       "        text-align: right;\n",
       "    }\n",
       "</style>\n",
       "<table border=\"1\" class=\"dataframe\">\n",
       "  <thead>\n",
       "    <tr style=\"text-align: right;\">\n",
       "      <th></th>\n",
       "      <th>length-sepal</th>\n",
       "      <th>width-sepal</th>\n",
       "      <th>petal.length</th>\n",
       "      <th>petal.width</th>\n",
       "      <th>width-sepal-binned</th>\n",
       "      <th>variety-setosa</th>\n",
       "      <th>variety-Versicolor</th>\n",
       "      <th>variety-Virginica</th>\n",
       "    </tr>\n",
       "  </thead>\n",
       "  <tbody>\n",
       "    <tr>\n",
       "      <th>0</th>\n",
       "      <td>0.735881</td>\n",
       "      <td>0.654165</td>\n",
       "      <td>0.544638</td>\n",
       "      <td>3.758</td>\n",
       "      <td>Medium</td>\n",
       "      <td>0</td>\n",
       "      <td>0</td>\n",
       "      <td>0</td>\n",
       "    </tr>\n",
       "    <tr>\n",
       "      <th>1</th>\n",
       "      <td>0.843137</td>\n",
       "      <td>0.571429</td>\n",
       "      <td>0.202899</td>\n",
       "      <td>0.200</td>\n",
       "      <td>Low</td>\n",
       "      <td>1</td>\n",
       "      <td>0</td>\n",
       "      <td>0</td>\n",
       "    </tr>\n",
       "    <tr>\n",
       "      <th>2</th>\n",
       "      <td>0.877551</td>\n",
       "      <td>0.666667</td>\n",
       "      <td>0.202899</td>\n",
       "      <td>0.200</td>\n",
       "      <td>Medium</td>\n",
       "      <td>1</td>\n",
       "      <td>0</td>\n",
       "      <td>0</td>\n",
       "    </tr>\n",
       "    <tr>\n",
       "      <th>3</th>\n",
       "      <td>0.914894</td>\n",
       "      <td>0.625000</td>\n",
       "      <td>0.188406</td>\n",
       "      <td>0.200</td>\n",
       "      <td>Low</td>\n",
       "      <td>1</td>\n",
       "      <td>0</td>\n",
       "      <td>0</td>\n",
       "    </tr>\n",
       "    <tr>\n",
       "      <th>4</th>\n",
       "      <td>0.934783</td>\n",
       "      <td>0.645161</td>\n",
       "      <td>0.217391</td>\n",
       "      <td>0.200</td>\n",
       "      <td>Medium</td>\n",
       "      <td>1</td>\n",
       "      <td>0</td>\n",
       "      <td>0</td>\n",
       "    </tr>\n",
       "  </tbody>\n",
       "</table>\n",
       "</div>"
      ],
      "text/plain": [
       "   length-sepal  width-sepal  petal.length  petal.width width-sepal-binned  \\\n",
       "0      0.735881     0.654165      0.544638        3.758             Medium   \n",
       "1      0.843137     0.571429      0.202899        0.200                Low   \n",
       "2      0.877551     0.666667      0.202899        0.200             Medium   \n",
       "3      0.914894     0.625000      0.188406        0.200                Low   \n",
       "4      0.934783     0.645161      0.217391        0.200             Medium   \n",
       "\n",
       "   variety-setosa  variety-Versicolor  variety-Virginica  \n",
       "0               0                   0                  0  \n",
       "1               1                   0                  0  \n",
       "2               1                   0                  0  \n",
       "3               1                   0                  0  \n",
       "4               1                   0                  0  "
      ]
     },
     "execution_count": 54,
     "metadata": {},
     "output_type": "execute_result"
    }
   ],
   "source": [
    "df.head()"
   ]
  },
  {
   "cell_type": "code",
   "execution_count": 55,
   "id": "aee2c13a",
   "metadata": {},
   "outputs": [
    {
     "data": {
      "text/html": [
       "<div>\n",
       "<style scoped>\n",
       "    .dataframe tbody tr th:only-of-type {\n",
       "        vertical-align: middle;\n",
       "    }\n",
       "\n",
       "    .dataframe tbody tr th {\n",
       "        vertical-align: top;\n",
       "    }\n",
       "\n",
       "    .dataframe thead th {\n",
       "        text-align: right;\n",
       "    }\n",
       "</style>\n",
       "<table border=\"1\" class=\"dataframe\">\n",
       "  <thead>\n",
       "    <tr style=\"text-align: right;\">\n",
       "      <th></th>\n",
       "      <th>0</th>\n",
       "      <th>1</th>\n",
       "    </tr>\n",
       "  </thead>\n",
       "  <tbody>\n",
       "    <tr>\n",
       "      <th>0</th>\n",
       "      <td>1</td>\n",
       "      <td>0</td>\n",
       "    </tr>\n",
       "    <tr>\n",
       "      <th>1</th>\n",
       "      <td>0</td>\n",
       "      <td>1</td>\n",
       "    </tr>\n",
       "    <tr>\n",
       "      <th>2</th>\n",
       "      <td>0</td>\n",
       "      <td>1</td>\n",
       "    </tr>\n",
       "    <tr>\n",
       "      <th>3</th>\n",
       "      <td>0</td>\n",
       "      <td>1</td>\n",
       "    </tr>\n",
       "    <tr>\n",
       "      <th>4</th>\n",
       "      <td>0</td>\n",
       "      <td>1</td>\n",
       "    </tr>\n",
       "  </tbody>\n",
       "</table>\n",
       "</div>"
      ],
      "text/plain": [
       "   0  1\n",
       "0  1  0\n",
       "1  0  1\n",
       "2  0  1\n",
       "3  0  1\n",
       "4  0  1"
      ]
     },
     "execution_count": 55,
     "metadata": {},
     "output_type": "execute_result"
    }
   ],
   "source": [
    "# Dummy Variables-2\n",
    "dv2 = pd.get_dummies(df['variety-setosa'])\n",
    "dv2.rename(columns={'0':'1','1':'0'}, inplace=True)\n",
    "dv2.head()"
   ]
  },
  {
   "cell_type": "code",
   "execution_count": 57,
   "id": "d87907d7",
   "metadata": {},
   "outputs": [
    {
     "data": {
      "text/html": [
       "<div>\n",
       "<style scoped>\n",
       "    .dataframe tbody tr th:only-of-type {\n",
       "        vertical-align: middle;\n",
       "    }\n",
       "\n",
       "    .dataframe tbody tr th {\n",
       "        vertical-align: top;\n",
       "    }\n",
       "\n",
       "    .dataframe thead th {\n",
       "        text-align: right;\n",
       "    }\n",
       "</style>\n",
       "<table border=\"1\" class=\"dataframe\">\n",
       "  <thead>\n",
       "    <tr style=\"text-align: right;\">\n",
       "      <th></th>\n",
       "      <th>length-sepal</th>\n",
       "      <th>width-sepal</th>\n",
       "      <th>petal.length</th>\n",
       "      <th>petal.width</th>\n",
       "      <th>width-sepal-binned</th>\n",
       "      <th>variety-Versicolor</th>\n",
       "      <th>variety-Virginica</th>\n",
       "      <th>0</th>\n",
       "      <th>1</th>\n",
       "      <th>0</th>\n",
       "      <th>1</th>\n",
       "    </tr>\n",
       "  </thead>\n",
       "  <tbody>\n",
       "    <tr>\n",
       "      <th>0</th>\n",
       "      <td>0.735881</td>\n",
       "      <td>0.654165</td>\n",
       "      <td>0.544638</td>\n",
       "      <td>3.758</td>\n",
       "      <td>Medium</td>\n",
       "      <td>0</td>\n",
       "      <td>0</td>\n",
       "      <td>1</td>\n",
       "      <td>0</td>\n",
       "      <td>1</td>\n",
       "      <td>0</td>\n",
       "    </tr>\n",
       "    <tr>\n",
       "      <th>1</th>\n",
       "      <td>0.843137</td>\n",
       "      <td>0.571429</td>\n",
       "      <td>0.202899</td>\n",
       "      <td>0.200</td>\n",
       "      <td>Low</td>\n",
       "      <td>0</td>\n",
       "      <td>0</td>\n",
       "      <td>0</td>\n",
       "      <td>1</td>\n",
       "      <td>0</td>\n",
       "      <td>1</td>\n",
       "    </tr>\n",
       "    <tr>\n",
       "      <th>2</th>\n",
       "      <td>0.877551</td>\n",
       "      <td>0.666667</td>\n",
       "      <td>0.202899</td>\n",
       "      <td>0.200</td>\n",
       "      <td>Medium</td>\n",
       "      <td>0</td>\n",
       "      <td>0</td>\n",
       "      <td>0</td>\n",
       "      <td>1</td>\n",
       "      <td>0</td>\n",
       "      <td>1</td>\n",
       "    </tr>\n",
       "    <tr>\n",
       "      <th>3</th>\n",
       "      <td>0.914894</td>\n",
       "      <td>0.625000</td>\n",
       "      <td>0.188406</td>\n",
       "      <td>0.200</td>\n",
       "      <td>Low</td>\n",
       "      <td>0</td>\n",
       "      <td>0</td>\n",
       "      <td>0</td>\n",
       "      <td>1</td>\n",
       "      <td>0</td>\n",
       "      <td>1</td>\n",
       "    </tr>\n",
       "    <tr>\n",
       "      <th>4</th>\n",
       "      <td>0.934783</td>\n",
       "      <td>0.645161</td>\n",
       "      <td>0.217391</td>\n",
       "      <td>0.200</td>\n",
       "      <td>Medium</td>\n",
       "      <td>0</td>\n",
       "      <td>0</td>\n",
       "      <td>0</td>\n",
       "      <td>1</td>\n",
       "      <td>0</td>\n",
       "      <td>1</td>\n",
       "    </tr>\n",
       "  </tbody>\n",
       "</table>\n",
       "</div>"
      ],
      "text/plain": [
       "   length-sepal  width-sepal  petal.length  petal.width width-sepal-binned  \\\n",
       "0      0.735881     0.654165      0.544638        3.758             Medium   \n",
       "1      0.843137     0.571429      0.202899        0.200                Low   \n",
       "2      0.877551     0.666667      0.202899        0.200             Medium   \n",
       "3      0.914894     0.625000      0.188406        0.200                Low   \n",
       "4      0.934783     0.645161      0.217391        0.200             Medium   \n",
       "\n",
       "   variety-Versicolor  variety-Virginica  0  1  0  1  \n",
       "0                   0                  0  1  0  1  0  \n",
       "1                   0                  0  0  1  0  1  \n",
       "2                   0                  0  0  1  0  1  \n",
       "3                   0                  0  0  1  0  1  \n",
       "4                   0                  0  0  1  0  1  "
      ]
     },
     "execution_count": 57,
     "metadata": {},
     "output_type": "execute_result"
    }
   ],
   "source": [
    "# Merging dataframe 'df' and 'dv2'\n",
    "df = pd.concat([df, dv2], axis=1)\n",
    "\n",
    "#drop original column \"variety-setosa\" from \"df\"\n",
    "df.drop(\"variety-setosa\", axis=1, inplace=True)\n",
    "\n",
    "df.head()"
   ]
  },
  {
   "cell_type": "code",
   "execution_count": 58,
   "id": "b52fee69",
   "metadata": {},
   "outputs": [
    {
     "data": {
      "text/html": [
       "<div>\n",
       "<style scoped>\n",
       "    .dataframe tbody tr th:only-of-type {\n",
       "        vertical-align: middle;\n",
       "    }\n",
       "\n",
       "    .dataframe tbody tr th {\n",
       "        vertical-align: top;\n",
       "    }\n",
       "\n",
       "    .dataframe thead th {\n",
       "        text-align: right;\n",
       "    }\n",
       "</style>\n",
       "<table border=\"1\" class=\"dataframe\">\n",
       "  <thead>\n",
       "    <tr style=\"text-align: right;\">\n",
       "      <th></th>\n",
       "      <th>length-sepal</th>\n",
       "      <th>width-sepal</th>\n",
       "      <th>petal.length</th>\n",
       "      <th>petal.width</th>\n",
       "      <th>variety-Versicolor</th>\n",
       "      <th>variety-Virginica</th>\n",
       "      <th>0</th>\n",
       "      <th>1</th>\n",
       "      <th>0</th>\n",
       "      <th>1</th>\n",
       "    </tr>\n",
       "  </thead>\n",
       "  <tbody>\n",
       "    <tr>\n",
       "      <th>length-sepal</th>\n",
       "      <td>1.000000</td>\n",
       "      <td>-0.101363</td>\n",
       "      <td>-0.878977</td>\n",
       "      <td>-0.805122</td>\n",
       "      <td>-0.138497</td>\n",
       "      <td>-0.614499</td>\n",
       "      <td>-0.754953</td>\n",
       "      <td>0.754953</td>\n",
       "      <td>-0.754953</td>\n",
       "      <td>0.754953</td>\n",
       "    </tr>\n",
       "    <tr>\n",
       "      <th>width-sepal</th>\n",
       "      <td>-0.101363</td>\n",
       "      <td>1.000000</td>\n",
       "      <td>0.375251</td>\n",
       "      <td>0.296847</td>\n",
       "      <td>0.470021</td>\n",
       "      <td>0.093171</td>\n",
       "      <td>0.561240</td>\n",
       "      <td>-0.561240</td>\n",
       "      <td>0.561240</td>\n",
       "      <td>-0.561240</td>\n",
       "    </tr>\n",
       "    <tr>\n",
       "      <th>petal.length</th>\n",
       "      <td>-0.878977</td>\n",
       "      <td>0.375251</td>\n",
       "      <td>1.000000</td>\n",
       "      <td>0.928617</td>\n",
       "      <td>0.201421</td>\n",
       "      <td>0.719820</td>\n",
       "      <td>0.921241</td>\n",
       "      <td>-0.921241</td>\n",
       "      <td>0.921241</td>\n",
       "      <td>-0.921241</td>\n",
       "    </tr>\n",
       "    <tr>\n",
       "      <th>petal.width</th>\n",
       "      <td>-0.805122</td>\n",
       "      <td>0.296847</td>\n",
       "      <td>0.928617</td>\n",
       "      <td>1.000000</td>\n",
       "      <td>0.098332</td>\n",
       "      <td>0.725665</td>\n",
       "      <td>0.869554</td>\n",
       "      <td>-0.869554</td>\n",
       "      <td>0.869554</td>\n",
       "      <td>-0.869554</td>\n",
       "    </tr>\n",
       "    <tr>\n",
       "      <th>variety-Versicolor</th>\n",
       "      <td>-0.138497</td>\n",
       "      <td>0.470021</td>\n",
       "      <td>0.201421</td>\n",
       "      <td>0.098332</td>\n",
       "      <td>1.000000</td>\n",
       "      <td>-0.495050</td>\n",
       "      <td>0.495050</td>\n",
       "      <td>-0.495050</td>\n",
       "      <td>0.495050</td>\n",
       "      <td>-0.495050</td>\n",
       "    </tr>\n",
       "    <tr>\n",
       "      <th>variety-Virginica</th>\n",
       "      <td>-0.614499</td>\n",
       "      <td>0.093171</td>\n",
       "      <td>0.719820</td>\n",
       "      <td>0.725665</td>\n",
       "      <td>-0.495050</td>\n",
       "      <td>1.000000</td>\n",
       "      <td>0.495050</td>\n",
       "      <td>-0.495050</td>\n",
       "      <td>0.495050</td>\n",
       "      <td>-0.495050</td>\n",
       "    </tr>\n",
       "    <tr>\n",
       "      <th>0</th>\n",
       "      <td>-0.754953</td>\n",
       "      <td>0.561240</td>\n",
       "      <td>0.921241</td>\n",
       "      <td>0.869554</td>\n",
       "      <td>0.495050</td>\n",
       "      <td>0.495050</td>\n",
       "      <td>1.000000</td>\n",
       "      <td>-1.000000</td>\n",
       "      <td>1.000000</td>\n",
       "      <td>-1.000000</td>\n",
       "    </tr>\n",
       "    <tr>\n",
       "      <th>1</th>\n",
       "      <td>0.754953</td>\n",
       "      <td>-0.561240</td>\n",
       "      <td>-0.921241</td>\n",
       "      <td>-0.869554</td>\n",
       "      <td>-0.495050</td>\n",
       "      <td>-0.495050</td>\n",
       "      <td>-1.000000</td>\n",
       "      <td>1.000000</td>\n",
       "      <td>-1.000000</td>\n",
       "      <td>1.000000</td>\n",
       "    </tr>\n",
       "    <tr>\n",
       "      <th>0</th>\n",
       "      <td>-0.754953</td>\n",
       "      <td>0.561240</td>\n",
       "      <td>0.921241</td>\n",
       "      <td>0.869554</td>\n",
       "      <td>0.495050</td>\n",
       "      <td>0.495050</td>\n",
       "      <td>1.000000</td>\n",
       "      <td>-1.000000</td>\n",
       "      <td>1.000000</td>\n",
       "      <td>-1.000000</td>\n",
       "    </tr>\n",
       "    <tr>\n",
       "      <th>1</th>\n",
       "      <td>0.754953</td>\n",
       "      <td>-0.561240</td>\n",
       "      <td>-0.921241</td>\n",
       "      <td>-0.869554</td>\n",
       "      <td>-0.495050</td>\n",
       "      <td>-0.495050</td>\n",
       "      <td>-1.000000</td>\n",
       "      <td>1.000000</td>\n",
       "      <td>-1.000000</td>\n",
       "      <td>1.000000</td>\n",
       "    </tr>\n",
       "  </tbody>\n",
       "</table>\n",
       "</div>"
      ],
      "text/plain": [
       "                    length-sepal  width-sepal  petal.length  petal.width  \\\n",
       "length-sepal            1.000000    -0.101363     -0.878977    -0.805122   \n",
       "width-sepal            -0.101363     1.000000      0.375251     0.296847   \n",
       "petal.length           -0.878977     0.375251      1.000000     0.928617   \n",
       "petal.width            -0.805122     0.296847      0.928617     1.000000   \n",
       "variety-Versicolor     -0.138497     0.470021      0.201421     0.098332   \n",
       "variety-Virginica      -0.614499     0.093171      0.719820     0.725665   \n",
       "0                      -0.754953     0.561240      0.921241     0.869554   \n",
       "1                       0.754953    -0.561240     -0.921241    -0.869554   \n",
       "0                      -0.754953     0.561240      0.921241     0.869554   \n",
       "1                       0.754953    -0.561240     -0.921241    -0.869554   \n",
       "\n",
       "                    variety-Versicolor  variety-Virginica         0         1  \\\n",
       "length-sepal                 -0.138497          -0.614499 -0.754953  0.754953   \n",
       "width-sepal                   0.470021           0.093171  0.561240 -0.561240   \n",
       "petal.length                  0.201421           0.719820  0.921241 -0.921241   \n",
       "petal.width                   0.098332           0.725665  0.869554 -0.869554   \n",
       "variety-Versicolor            1.000000          -0.495050  0.495050 -0.495050   \n",
       "variety-Virginica            -0.495050           1.000000  0.495050 -0.495050   \n",
       "0                             0.495050           0.495050  1.000000 -1.000000   \n",
       "1                            -0.495050          -0.495050 -1.000000  1.000000   \n",
       "0                             0.495050           0.495050  1.000000 -1.000000   \n",
       "1                            -0.495050          -0.495050 -1.000000  1.000000   \n",
       "\n",
       "                           0         1  \n",
       "length-sepal       -0.754953  0.754953  \n",
       "width-sepal         0.561240 -0.561240  \n",
       "petal.length        0.921241 -0.921241  \n",
       "petal.width         0.869554 -0.869554  \n",
       "variety-Versicolor  0.495050 -0.495050  \n",
       "variety-Virginica   0.495050 -0.495050  \n",
       "0                   1.000000 -1.000000  \n",
       "1                  -1.000000  1.000000  \n",
       "0                   1.000000 -1.000000  \n",
       "1                  -1.000000  1.000000  "
      ]
     },
     "execution_count": 58,
     "metadata": {},
     "output_type": "execute_result"
    }
   ],
   "source": [
    "df.corr()"
   ]
  },
  {
   "cell_type": "code",
   "execution_count": 59,
   "id": "289b9b2e",
   "metadata": {},
   "outputs": [
    {
     "data": {
      "text/plain": [
       "(0.0, 3.9682317375363922)"
      ]
     },
     "execution_count": 59,
     "metadata": {},
     "output_type": "execute_result"
    },
    {
     "data": {
      "image/png": "[encoded data removed]",
      "text/plain": [
       "<Figure size 432x288 with 1 Axes>"
      ]
     },
     "metadata": {
      "needs_background": "light"
     },
     "output_type": "display_data"
    }
   ],
   "source": [
    "sns.regplot(x=\"length-sepal\", y=\"petal.width\", data=df)\n",
    "plt.ylim(0,)"
   ]
  },
  {
   "cell_type": "code",
   "execution_count": 60,
   "id": "7f0081f2",
   "metadata": {},
   "outputs": [
    {
     "data": {
      "text/html": [
       "<div>\n",
       "<style scoped>\n",
       "    .dataframe tbody tr th:only-of-type {\n",
       "        vertical-align: middle;\n",
       "    }\n",
       "\n",
       "    .dataframe tbody tr th {\n",
       "        vertical-align: top;\n",
       "    }\n",
       "\n",
       "    .dataframe thead th {\n",
       "        text-align: right;\n",
       "    }\n",
       "</style>\n",
       "<table border=\"1\" class=\"dataframe\">\n",
       "  <thead>\n",
       "    <tr style=\"text-align: right;\">\n",
       "      <th></th>\n",
       "      <th>length-sepal</th>\n",
       "      <th>petal.width</th>\n",
       "    </tr>\n",
       "  </thead>\n",
       "  <tbody>\n",
       "    <tr>\n",
       "      <th>length-sepal</th>\n",
       "      <td>1.000000</td>\n",
       "      <td>-0.805122</td>\n",
       "    </tr>\n",
       "    <tr>\n",
       "      <th>petal.width</th>\n",
       "      <td>-0.805122</td>\n",
       "      <td>1.000000</td>\n",
       "    </tr>\n",
       "  </tbody>\n",
       "</table>\n",
       "</div>"
      ],
      "text/plain": [
       "              length-sepal  petal.width\n",
       "length-sepal      1.000000    -0.805122\n",
       "petal.width      -0.805122     1.000000"
      ]
     },
     "execution_count": 60,
     "metadata": {},
     "output_type": "execute_result"
    }
   ],
   "source": [
    "df[[\"length-sepal\",\"petal.width\"]].corr()"
   ]
  },
  {
   "cell_type": "code",
   "execution_count": 61,
   "id": "b3452fac",
   "metadata": {},
   "outputs": [
    {
     "data": {
      "text/plain": [
       "<AxesSubplot:xlabel='petal.length', ylabel='petal.width'>"
      ]
     },
     "execution_count": 61,
     "metadata": {},
     "output_type": "execute_result"
    },
    {
     "data": {
      "image/png": "[encoded data removed]",
      "text/plain": [
       "<Figure size 432x288 with 1 Axes>"
      ]
     },
     "metadata": {
      "needs_background": "light"
     },
     "output_type": "display_data"
    }
   ],
   "source": [
    "sns.regplot(x=\"petal.length\", y=\"petal.width\", data=df)"
   ]
  },
  {
   "cell_type": "code",
   "execution_count": 62,
   "id": "f40ffea5",
   "metadata": {},
   "outputs": [
    {
     "data": {
      "text/html": [
       "<div>\n",
       "<style scoped>\n",
       "    .dataframe tbody tr th:only-of-type {\n",
       "        vertical-align: middle;\n",
       "    }\n",
       "\n",
       "    .dataframe tbody tr th {\n",
       "        vertical-align: top;\n",
       "    }\n",
       "\n",
       "    .dataframe thead th {\n",
       "        text-align: right;\n",
       "    }\n",
       "</style>\n",
       "<table border=\"1\" class=\"dataframe\">\n",
       "  <thead>\n",
       "    <tr style=\"text-align: right;\">\n",
       "      <th></th>\n",
       "      <th>petal.length</th>\n",
       "      <th>petal.width</th>\n",
       "    </tr>\n",
       "  </thead>\n",
       "  <tbody>\n",
       "    <tr>\n",
       "      <th>petal.length</th>\n",
       "      <td>1.000000</td>\n",
       "      <td>0.928617</td>\n",
       "    </tr>\n",
       "    <tr>\n",
       "      <th>petal.width</th>\n",
       "      <td>0.928617</td>\n",
       "      <td>1.000000</td>\n",
       "    </tr>\n",
       "  </tbody>\n",
       "</table>\n",
       "</div>"
      ],
      "text/plain": [
       "              petal.length  petal.width\n",
       "petal.length      1.000000     0.928617\n",
       "petal.width       0.928617     1.000000"
      ]
     },
     "execution_count": 62,
     "metadata": {},
     "output_type": "execute_result"
    }
   ],
   "source": [
    "df[[\"petal.length\",\"petal.width\"]].corr()"
   ]
  },
  {
   "cell_type": "code",
   "execution_count": 63,
   "id": "6974127c",
   "metadata": {},
   "outputs": [
    {
     "data": {
      "text/plain": [
       "<AxesSubplot:xlabel='length-sepal', ylabel='width-sepal'>"
      ]
     },
     "execution_count": 63,
     "metadata": {},
     "output_type": "execute_result"
    },
    {
     "data": {
      "image/png": "[encoded data removed]",
      "text/plain": [
       "<Figure size 432x288 with 1 Axes>"
      ]
     },
     "metadata": {
      "needs_background": "light"
     },
     "output_type": "display_data"
    }
   ],
   "source": [
    "sns.regplot(x=\"length-sepal\", y=\"width-sepal\", data=df)"
   ]
  },
  {
   "cell_type": "code",
   "execution_count": 64,
   "id": "e56bbc0c",
   "metadata": {},
   "outputs": [
    {
     "data": {
      "text/html": [
       "<div>\n",
       "<style scoped>\n",
       "    .dataframe tbody tr th:only-of-type {\n",
       "        vertical-align: middle;\n",
       "    }\n",
       "\n",
       "    .dataframe tbody tr th {\n",
       "        vertical-align: top;\n",
       "    }\n",
       "\n",
       "    .dataframe thead th {\n",
       "        text-align: right;\n",
       "    }\n",
       "</style>\n",
       "<table border=\"1\" class=\"dataframe\">\n",
       "  <thead>\n",
       "    <tr style=\"text-align: right;\">\n",
       "      <th></th>\n",
       "      <th>length-sepal</th>\n",
       "      <th>width-sepal</th>\n",
       "    </tr>\n",
       "  </thead>\n",
       "  <tbody>\n",
       "    <tr>\n",
       "      <th>length-sepal</th>\n",
       "      <td>1.000000</td>\n",
       "      <td>-0.101363</td>\n",
       "    </tr>\n",
       "    <tr>\n",
       "      <th>width-sepal</th>\n",
       "      <td>-0.101363</td>\n",
       "      <td>1.000000</td>\n",
       "    </tr>\n",
       "  </tbody>\n",
       "</table>\n",
       "</div>"
      ],
      "text/plain": [
       "              length-sepal  width-sepal\n",
       "length-sepal      1.000000    -0.101363\n",
       "width-sepal      -0.101363     1.000000"
      ]
     },
     "execution_count": 64,
     "metadata": {},
     "output_type": "execute_result"
    }
   ],
   "source": [
    "df[['length-sepal','width-sepal']].corr()"
   ]
  },
  {
   "cell_type": "markdown",
   "id": "444a529d",
   "metadata": {},
   "source": [
    "## 4. Independent & Dependent"
   ]
  },
  {
   "cell_type": "code",
   "execution_count": 71,
   "id": "08929403",
   "metadata": {},
   "outputs": [],
   "source": [
    "# dependant variable\n",
    "y= df['petal.width']\n",
    "\n",
    "# independant variable\n",
    "x= df.drop('petal.width', axis=1)"
   ]
  },
  {
   "cell_type": "code",
   "execution_count": 73,
   "id": "9ed63d90",
   "metadata": {},
   "outputs": [
    {
     "data": {
      "text/html": [
       "<div>\n",
       "<style scoped>\n",
       "    .dataframe tbody tr th:only-of-type {\n",
       "        vertical-align: middle;\n",
       "    }\n",
       "\n",
       "    .dataframe tbody tr th {\n",
       "        vertical-align: top;\n",
       "    }\n",
       "\n",
       "    .dataframe thead th {\n",
       "        text-align: right;\n",
       "    }\n",
       "</style>\n",
       "<table border=\"1\" class=\"dataframe\">\n",
       "  <thead>\n",
       "    <tr style=\"text-align: right;\">\n",
       "      <th></th>\n",
       "      <th>length-sepal</th>\n",
       "      <th>width-sepal</th>\n",
       "      <th>petal.length</th>\n",
       "      <th>width-sepal-binned</th>\n",
       "      <th>variety-Versicolor</th>\n",
       "      <th>variety-Virginica</th>\n",
       "      <th>0</th>\n",
       "      <th>1</th>\n",
       "      <th>0</th>\n",
       "      <th>1</th>\n",
       "    </tr>\n",
       "  </thead>\n",
       "  <tbody>\n",
       "    <tr>\n",
       "      <th>0</th>\n",
       "      <td>0.735881</td>\n",
       "      <td>0.654165</td>\n",
       "      <td>0.544638</td>\n",
       "      <td>Medium</td>\n",
       "      <td>0</td>\n",
       "      <td>0</td>\n",
       "      <td>1</td>\n",
       "      <td>0</td>\n",
       "      <td>1</td>\n",
       "      <td>0</td>\n",
       "    </tr>\n",
       "    <tr>\n",
       "      <th>1</th>\n",
       "      <td>0.843137</td>\n",
       "      <td>0.571429</td>\n",
       "      <td>0.202899</td>\n",
       "      <td>Low</td>\n",
       "      <td>0</td>\n",
       "      <td>0</td>\n",
       "      <td>0</td>\n",
       "      <td>1</td>\n",
       "      <td>0</td>\n",
       "      <td>1</td>\n",
       "    </tr>\n",
       "    <tr>\n",
       "      <th>2</th>\n",
       "      <td>0.877551</td>\n",
       "      <td>0.666667</td>\n",
       "      <td>0.202899</td>\n",
       "      <td>Medium</td>\n",
       "      <td>0</td>\n",
       "      <td>0</td>\n",
       "      <td>0</td>\n",
       "      <td>1</td>\n",
       "      <td>0</td>\n",
       "      <td>1</td>\n",
       "    </tr>\n",
       "    <tr>\n",
       "      <th>3</th>\n",
       "      <td>0.914894</td>\n",
       "      <td>0.625000</td>\n",
       "      <td>0.188406</td>\n",
       "      <td>Low</td>\n",
       "      <td>0</td>\n",
       "      <td>0</td>\n",
       "      <td>0</td>\n",
       "      <td>1</td>\n",
       "      <td>0</td>\n",
       "      <td>1</td>\n",
       "    </tr>\n",
       "    <tr>\n",
       "      <th>4</th>\n",
       "      <td>0.934783</td>\n",
       "      <td>0.645161</td>\n",
       "      <td>0.217391</td>\n",
       "      <td>Medium</td>\n",
       "      <td>0</td>\n",
       "      <td>0</td>\n",
       "      <td>0</td>\n",
       "      <td>1</td>\n",
       "      <td>0</td>\n",
       "      <td>1</td>\n",
       "    </tr>\n",
       "  </tbody>\n",
       "</table>\n",
       "</div>"
      ],
      "text/plain": [
       "   length-sepal  width-sepal  petal.length width-sepal-binned  \\\n",
       "0      0.735881     0.654165      0.544638             Medium   \n",
       "1      0.843137     0.571429      0.202899                Low   \n",
       "2      0.877551     0.666667      0.202899             Medium   \n",
       "3      0.914894     0.625000      0.188406                Low   \n",
       "4      0.934783     0.645161      0.217391             Medium   \n",
       "\n",
       "   variety-Versicolor  variety-Virginica  0  1  0  1  \n",
       "0                   0                  0  1  0  1  0  \n",
       "1                   0                  0  0  1  0  1  \n",
       "2                   0                  0  0  1  0  1  \n",
       "3                   0                  0  0  1  0  1  \n",
       "4                   0                  0  0  1  0  1  "
      ]
     },
     "execution_count": 73,
     "metadata": {},
     "output_type": "execute_result"
    }
   ],
   "source": [
    "x.head()"
   ]
  },
  {
   "cell_type": "markdown",
   "id": "96c344c6",
   "metadata": {},
   "source": [
    "## 5. Train,Test & Split"
   ]
  },
  {
   "cell_type": "code",
   "execution_count": 81,
   "id": "6d5398ff",
   "metadata": {},
   "outputs": [],
   "source": [
    "from sklearn.model_selection import train_test_split\n",
    "x_train,x_test,y_train,y_test=train_test_split(x,y,test_size=0.10,random_state=1)"
   ]
  },
  {
   "cell_type": "code",
   "execution_count": 82,
   "id": "5732a2b1",
   "metadata": {},
   "outputs": [
    {
     "name": "stdout",
     "output_type": "stream",
     "text": [
      "Requirement already satisfied: scikit-learn in c:\\users\\siddhant\\appdata\\local\\programs\\python\\python38-32\\lib\\site-packages (1.0.1)\n",
      "Requirement already satisfied: scipy in c:\\users\\siddhant\\appdata\\local\\programs\\python\\python38-32\\lib\\site-packages (1.7.3)\n",
      "Requirement already satisfied: matplotlib in c:\\users\\siddhant\\appdata\\local\\programs\\python\\python38-32\\lib\\site-packages (3.5.1)\n",
      "Requirement already satisfied: threadpoolctl>=2.0.0 in c:\\users\\siddhant\\appdata\\local\\programs\\python\\python38-32\\lib\\site-packages (from scikit-learn) (3.0.0)\n",
      "Requirement already satisfied: numpy>=1.14.6 in c:\\users\\siddhant\\appdata\\local\\programs\\python\\python38-32\\lib\\site-packages (from scikit-learn) (1.21.4)\n",
      "Requirement already satisfied: joblib>=0.11 in c:\\users\\siddhant\\appdata\\local\\programs\\python\\python38-32\\lib\\site-packages (from scikit-learn) (1.1.0)\n",
      "Requirement already satisfied: python-dateutil>=2.7 in c:\\users\\siddhant\\appdata\\local\\programs\\python\\python38-32\\lib\\site-packages (from matplotlib) (2.8.1)\n",
      "Requirement already satisfied: pyparsing>=2.2.1 in c:\\users\\siddhant\\appdata\\local\\programs\\python\\python38-32\\lib\\site-packages (from matplotlib) (3.0.6)\n",
      "Requirement already satisfied: cycler>=0.10 in c:\\users\\siddhant\\appdata\\local\\programs\\python\\python38-32\\lib\\site-packages (from matplotlib) (0.11.0)\n",
      "Requirement already satisfied: fonttools>=4.22.0 in c:\\users\\siddhant\\appdata\\local\\programs\\python\\python38-32\\lib\\site-packages (from matplotlib) (4.28.3)\n",
      "Requirement already satisfied: packaging>=20.0 in c:\\users\\siddhant\\appdata\\local\\programs\\python\\python38-32\\lib\\site-packages (from matplotlib) (21.3)\n",
      "Requirement already satisfied: kiwisolver>=1.0.1 in c:\\users\\siddhant\\appdata\\local\\programs\\python\\python38-32\\lib\\site-packages (from matplotlib) (1.3.2)\n",
      "Requirement already satisfied: pillow>=6.2.0 in c:\\users\\siddhant\\appdata\\local\\programs\\python\\python38-32\\lib\\site-packages (from matplotlib) (8.2.0)\n",
      "Requirement already satisfied: six>=1.5 in c:\\users\\siddhant\\appdata\\roaming\\python\\python38\\site-packages (from python-dateutil>=2.7->matplotlib) (1.15.0)\n"
     ]
    }
   ],
   "source": [
    "!pip3 install -U scikit-learn scipy matplotlib"
   ]
  },
  {
   "cell_type": "code",
   "execution_count": 83,
   "id": "92deaea3",
   "metadata": {},
   "outputs": [
    {
     "name": "stdout",
     "output_type": "stream",
     "text": [
      "(135, 10)\n",
      "(16, 10)\n",
      "(135,)\n",
      "(16,)\n"
     ]
    }
   ],
   "source": [
    "print(x_train.shape) #training input\n",
    "print(x_test.shape)#testing input\n",
    "print(y_train.shape) #training output\n",
    "print(y_test.shape)#testing output"
   ]
  },
  {
   "cell_type": "markdown",
   "id": "108fa3ff",
   "metadata": {},
   "source": [
    "## 6. Build ML Algorithms"
   ]
  },
  {
   "cell_type": "code",
   "execution_count": null,
   "id": "8e42a2a2",
   "metadata": {},
   "outputs": [],
   "source": [
    "from sklearn.linear_model import LinearRegression\n",
    "lr=LinearRegression()\n",
    "lr.fit(x_train, y_train)"
   ]
  },
  {
   "cell_type": "code",
   "execution_count": 85,
   "id": "6bafc574",
   "metadata": {},
   "outputs": [
    {
     "data": {
      "text/html": [
       "<div>\n",
       "<style scoped>\n",
       "    .dataframe tbody tr th:only-of-type {\n",
       "        vertical-align: middle;\n",
       "    }\n",
       "\n",
       "    .dataframe tbody tr th {\n",
       "        vertical-align: top;\n",
       "    }\n",
       "\n",
       "    .dataframe thead th {\n",
       "        text-align: right;\n",
       "    }\n",
       "</style>\n",
       "<table border=\"1\" class=\"dataframe\">\n",
       "  <thead>\n",
       "    <tr style=\"text-align: right;\">\n",
       "      <th></th>\n",
       "      <th>length-sepal</th>\n",
       "      <th>width-sepal</th>\n",
       "      <th>petal.length</th>\n",
       "      <th>width-sepal-binned</th>\n",
       "      <th>variety-Versicolor</th>\n",
       "      <th>variety-Virginica</th>\n",
       "      <th>0</th>\n",
       "      <th>1</th>\n",
       "      <th>0</th>\n",
       "      <th>1</th>\n",
       "    </tr>\n",
       "  </thead>\n",
       "  <tbody>\n",
       "    <tr>\n",
       "      <th>14</th>\n",
       "      <td>1.000000</td>\n",
       "      <td>0.666667</td>\n",
       "      <td>0.159420</td>\n",
       "      <td>Medium</td>\n",
       "      <td>0</td>\n",
       "      <td>0</td>\n",
       "      <td>0</td>\n",
       "      <td>1</td>\n",
       "      <td>0</td>\n",
       "      <td>1</td>\n",
       "    </tr>\n",
       "    <tr>\n",
       "      <th>98</th>\n",
       "      <td>0.693548</td>\n",
       "      <td>0.689655</td>\n",
       "      <td>0.623188</td>\n",
       "      <td>Medium</td>\n",
       "      <td>1</td>\n",
       "      <td>0</td>\n",
       "      <td>1</td>\n",
       "      <td>0</td>\n",
       "      <td>1</td>\n",
       "      <td>0</td>\n",
       "    </tr>\n",
       "    <tr>\n",
       "      <th>75</th>\n",
       "      <td>0.671875</td>\n",
       "      <td>0.689655</td>\n",
       "      <td>0.623188</td>\n",
       "      <td>Medium</td>\n",
       "      <td>1</td>\n",
       "      <td>0</td>\n",
       "      <td>1</td>\n",
       "      <td>0</td>\n",
       "      <td>1</td>\n",
       "      <td>0</td>\n",
       "    </tr>\n",
       "    <tr>\n",
       "      <th>16</th>\n",
       "      <td>0.754386</td>\n",
       "      <td>0.454545</td>\n",
       "      <td>0.217391</td>\n",
       "      <td>Low</td>\n",
       "      <td>0</td>\n",
       "      <td>0</td>\n",
       "      <td>0</td>\n",
       "      <td>1</td>\n",
       "      <td>0</td>\n",
       "      <td>1</td>\n",
       "    </tr>\n",
       "    <tr>\n",
       "      <th>131</th>\n",
       "      <td>0.581081</td>\n",
       "      <td>0.714286</td>\n",
       "      <td>0.884058</td>\n",
       "      <td>Medium</td>\n",
       "      <td>0</td>\n",
       "      <td>1</td>\n",
       "      <td>1</td>\n",
       "      <td>0</td>\n",
       "      <td>1</td>\n",
       "      <td>0</td>\n",
       "    </tr>\n",
       "    <tr>\n",
       "      <th>56</th>\n",
       "      <td>0.754386</td>\n",
       "      <td>0.714286</td>\n",
       "      <td>0.652174</td>\n",
       "      <td>Medium</td>\n",
       "      <td>1</td>\n",
       "      <td>0</td>\n",
       "      <td>1</td>\n",
       "      <td>0</td>\n",
       "      <td>1</td>\n",
       "      <td>0</td>\n",
       "    </tr>\n",
       "    <tr>\n",
       "      <th>141</th>\n",
       "      <td>0.641791</td>\n",
       "      <td>0.645161</td>\n",
       "      <td>0.811594</td>\n",
       "      <td>Medium</td>\n",
       "      <td>0</td>\n",
       "      <td>1</td>\n",
       "      <td>1</td>\n",
       "      <td>0</td>\n",
       "      <td>1</td>\n",
       "      <td>0</td>\n",
       "    </tr>\n",
       "    <tr>\n",
       "      <th>44</th>\n",
       "      <td>0.860000</td>\n",
       "      <td>0.571429</td>\n",
       "      <td>0.231884</td>\n",
       "      <td>Low</td>\n",
       "      <td>0</td>\n",
       "      <td>0</td>\n",
       "      <td>0</td>\n",
       "      <td>1</td>\n",
       "      <td>0</td>\n",
       "      <td>1</td>\n",
       "    </tr>\n",
       "    <tr>\n",
       "      <th>29</th>\n",
       "      <td>0.826923</td>\n",
       "      <td>0.588235</td>\n",
       "      <td>0.202899</td>\n",
       "      <td>Low</td>\n",
       "      <td>0</td>\n",
       "      <td>0</td>\n",
       "      <td>0</td>\n",
       "      <td>1</td>\n",
       "      <td>0</td>\n",
       "      <td>1</td>\n",
       "    </tr>\n",
       "    <tr>\n",
       "      <th>120</th>\n",
       "      <td>0.716667</td>\n",
       "      <td>0.909091</td>\n",
       "      <td>0.724638</td>\n",
       "      <td>High</td>\n",
       "      <td>0</td>\n",
       "      <td>1</td>\n",
       "      <td>1</td>\n",
       "      <td>0</td>\n",
       "      <td>1</td>\n",
       "      <td>0</td>\n",
       "    </tr>\n",
       "    <tr>\n",
       "      <th>94</th>\n",
       "      <td>0.860000</td>\n",
       "      <td>0.869565</td>\n",
       "      <td>0.478261</td>\n",
       "      <td>High</td>\n",
       "      <td>1</td>\n",
       "      <td>0</td>\n",
       "      <td>1</td>\n",
       "      <td>0</td>\n",
       "      <td>1</td>\n",
       "      <td>0</td>\n",
       "    </tr>\n",
       "    <tr>\n",
       "      <th>5</th>\n",
       "      <td>0.860000</td>\n",
       "      <td>0.555556</td>\n",
       "      <td>0.202899</td>\n",
       "      <td>Low</td>\n",
       "      <td>0</td>\n",
       "      <td>0</td>\n",
       "      <td>0</td>\n",
       "      <td>1</td>\n",
       "      <td>0</td>\n",
       "      <td>1</td>\n",
       "    </tr>\n",
       "    <tr>\n",
       "      <th>102</th>\n",
       "      <td>0.741379</td>\n",
       "      <td>0.740741</td>\n",
       "      <td>0.739130</td>\n",
       "      <td>Medium</td>\n",
       "      <td>0</td>\n",
       "      <td>1</td>\n",
       "      <td>1</td>\n",
       "      <td>0</td>\n",
       "      <td>1</td>\n",
       "      <td>0</td>\n",
       "    </tr>\n",
       "    <tr>\n",
       "      <th>51</th>\n",
       "      <td>0.614286</td>\n",
       "      <td>0.625000</td>\n",
       "      <td>0.681159</td>\n",
       "      <td>Low</td>\n",
       "      <td>1</td>\n",
       "      <td>0</td>\n",
       "      <td>1</td>\n",
       "      <td>0</td>\n",
       "      <td>1</td>\n",
       "      <td>0</td>\n",
       "    </tr>\n",
       "    <tr>\n",
       "      <th>78</th>\n",
       "      <td>0.641791</td>\n",
       "      <td>0.666667</td>\n",
       "      <td>0.724638</td>\n",
       "      <td>Medium</td>\n",
       "      <td>1</td>\n",
       "      <td>0</td>\n",
       "      <td>1</td>\n",
       "      <td>0</td>\n",
       "      <td>1</td>\n",
       "      <td>0</td>\n",
       "    </tr>\n",
       "    <tr>\n",
       "      <th>42</th>\n",
       "      <td>0.955556</td>\n",
       "      <td>0.869565</td>\n",
       "      <td>0.188406</td>\n",
       "      <td>High</td>\n",
       "      <td>0</td>\n",
       "      <td>0</td>\n",
       "      <td>0</td>\n",
       "      <td>1</td>\n",
       "      <td>0</td>\n",
       "      <td>1</td>\n",
       "    </tr>\n",
       "  </tbody>\n",
       "</table>\n",
       "</div>"
      ],
      "text/plain": [
       "     length-sepal  width-sepal  petal.length width-sepal-binned  \\\n",
       "14       1.000000     0.666667      0.159420             Medium   \n",
       "98       0.693548     0.689655      0.623188             Medium   \n",
       "75       0.671875     0.689655      0.623188             Medium   \n",
       "16       0.754386     0.454545      0.217391                Low   \n",
       "131      0.581081     0.714286      0.884058             Medium   \n",
       "56       0.754386     0.714286      0.652174             Medium   \n",
       "141      0.641791     0.645161      0.811594             Medium   \n",
       "44       0.860000     0.571429      0.231884                Low   \n",
       "29       0.826923     0.588235      0.202899                Low   \n",
       "120      0.716667     0.909091      0.724638               High   \n",
       "94       0.860000     0.869565      0.478261               High   \n",
       "5        0.860000     0.555556      0.202899                Low   \n",
       "102      0.741379     0.740741      0.739130             Medium   \n",
       "51       0.614286     0.625000      0.681159                Low   \n",
       "78       0.641791     0.666667      0.724638             Medium   \n",
       "42       0.955556     0.869565      0.188406               High   \n",
       "\n",
       "     variety-Versicolor  variety-Virginica  0  1  0  1  \n",
       "14                    0                  0  0  1  0  1  \n",
       "98                    1                  0  1  0  1  0  \n",
       "75                    1                  0  1  0  1  0  \n",
       "16                    0                  0  0  1  0  1  \n",
       "131                   0                  1  1  0  1  0  \n",
       "56                    1                  0  1  0  1  0  \n",
       "141                   0                  1  1  0  1  0  \n",
       "44                    0                  0  0  1  0  1  \n",
       "29                    0                  0  0  1  0  1  \n",
       "120                   0                  1  1  0  1  0  \n",
       "94                    1                  0  1  0  1  0  \n",
       "5                     0                  0  0  1  0  1  \n",
       "102                   0                  1  1  0  1  0  \n",
       "51                    1                  0  1  0  1  0  \n",
       "78                    1                  0  1  0  1  0  \n",
       "42                    0                  0  0  1  0  1  "
      ]
     },
     "execution_count": 85,
     "metadata": {},
     "output_type": "execute_result"
    }
   ],
   "source": [
    "x_test"
   ]
  },
  {
   "cell_type": "code",
   "execution_count": 86,
   "id": "27f2bc87",
   "metadata": {},
   "outputs": [
    {
     "data": {
      "text/plain": [
       "14     0.1\n",
       "98     1.3\n",
       "75     1.3\n",
       "16     0.4\n",
       "131    1.9\n",
       "56     1.3\n",
       "141    2.4\n",
       "44     0.6\n",
       "29     0.2\n",
       "120    1.5\n",
       "94     1.0\n",
       "5      0.2\n",
       "102    1.9\n",
       "51     1.4\n",
       "78     1.7\n",
       "42     0.3\n",
       "Name: petal.width, dtype: float64"
      ]
     },
     "execution_count": 86,
     "metadata": {},
     "output_type": "execute_result"
    }
   ],
   "source": [
    "y_test"
   ]
  },
  {
   "cell_type": "markdown",
   "id": "ad679762",
   "metadata": {},
   "source": [
    "## 7. Calculate the R2_Score"
   ]
  },
  {
   "cell_type": "code",
   "execution_count": null,
   "id": "5c9fe377",
   "metadata": {},
   "outputs": [],
   "source": [
    "y_pred = lr.predict(x_test)\n",
    "y_pred"
   ]
  },
  {
   "cell_type": "code",
   "execution_count": null,
   "id": "2270c243",
   "metadata": {},
   "outputs": [],
   "source": [
    "lr.score(x_test, y_test)"
   ]
  },
  {
   "cell_type": "code",
   "execution_count": null,
   "id": "27fc37bb",
   "metadata": {},
   "outputs": [],
   "source": [
    "from sklearn.metrics import r2_score\n",
    "r2_score(lr.predict(x_test),y_test)"
   ]
  },
  {
   "cell_type": "code",
   "execution_count": null,
   "id": "ce54c613",
   "metadata": {},
   "outputs": [],
   "source": [
    "r2_score(lr.predict(x_train),y_train)"
   ]
  }
 ],
 "metadata": {
  "kernelspec": {
   "display_name": "Python 3 (ipykernel)",
   "language": "python",
   "name": "python3"
  },
  "language_info": {
   "codemirror_mode": {
    "name": "ipython",
    "version": 3
   },
   "file_extension": ".py",
   "mimetype": "text/x-python",
   "name": "python",
   "nbconvert_exporter": "python",
   "pygments_lexer": "ipython3",
   "version": "3.8.3"
  }
 },
 "nbformat": 4,
 "nbformat_minor": 5
}
